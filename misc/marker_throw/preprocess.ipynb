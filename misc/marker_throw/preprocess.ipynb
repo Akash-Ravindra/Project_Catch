{
 "cells": [
  {
   "cell_type": "code",
   "execution_count": 116,
   "metadata": {},
   "outputs": [],
   "source": [
    "#!/usr/bin/env python3\n",
    "from rosbags.rosbag1 import Reader\n",
    "from rosbags.serde import deserialize_cdr, ros1_to_cdr\n",
    "from rosbags.typesys import get_types_from_msg, register_types\n",
    "import matplotlib.pyplot as plt\n",
    "import numpy as np\n",
    "from pathlib import Path"
   ]
  },
  {
   "cell_type": "code",
   "execution_count": 117,
   "metadata": {},
   "outputs": [],
   "source": [
    "add_types = {}\n",
    "msg_text = Path('/home/eurus/Documents/College/Sem_4/ENAE788M/proj/ws/src/Project_Catch/vicon_bridge/msg/Marker.msg').read_text()\n",
    "add_types.update(get_types_from_msg(msg_text, 'vicon_bridge/Marker'))\n",
    "register_types(add_types)\n",
    "msg_text = Path('/home/eurus/Documents/College/Sem_4/ENAE788M/proj/ws/src/Project_Catch/vicon_bridge/msg/Markers.msg').read_text()\n",
    "add_types.update(get_types_from_msg(msg_text, 'vicon_bridge/Markers'))\n",
    "register_types(add_types)"
   ]
  },
  {
   "cell_type": "code",
   "execution_count": 130,
   "metadata": {},
   "outputs": [],
   "source": [
    "t_count = 0\n",
    "marker_pos = {t_count:[]}\n",
    "prev_t = False\n",
    "# with Reader('/home/eurus/Documents/College/Sem_4/ENAE788M/proj/ws/src/Project_Catch/misc/marker_throw/throw_1.bag') as reader:\n",
    "with Reader('/home/eurus/Documents/College/Sem_4/ENAE788M/proj/ws/src/Project_Catch/misc/marker_throw/throw_2.bag') as reader:\n",
    "    for connection, timestamp, rawdata in reader.messages():\n",
    "        ## The local position message from the PX4\n",
    "        if connection.topic == '/vicon/markers':\n",
    "            msg = deserialize_cdr(ros1_to_cdr(rawdata, connection.msgtype), connection.msgtype)\n",
    "            if(len(msg.markers)):\n",
    "                prev_t = True\n",
    "                if(t_count not in marker_pos):\n",
    "                    marker_pos[t_count] = []\n",
    "                marker_pos[t_count].append([msg.markers[0].translation.x, msg.markers[0].translation.y, msg.markers[0].translation.z,msg.header.stamp.sec+msg.header.stamp.nanosec*1e-9])\n",
    "            else:\n",
    "                if(prev_t):\n",
    "                    prev_t = False\n",
    "                    if(len(marker_pos[t_count])<50):\n",
    "                        marker_pos[t_count] = []\n",
    "                    else:\n",
    "                        marker_pos[t_count] = np.array(marker_pos[t_count])\n",
    "                        t_count += 1\n",
    "                    "
   ]
  },
  {
   "cell_type": "code",
   "execution_count": 131,
   "metadata": {},
   "outputs": [],
   "source": [
    "throw_ = 1\n",
    "marker_pos[throw_][1:,-1] -= marker_pos[throw_][:-1,-1]\n",
    "marker_pos[throw_][0,-1] = 0"
   ]
  },
  {
   "cell_type": "code",
   "execution_count": 132,
   "metadata": {},
   "outputs": [],
   "source": [
    "# for i in range(0, len(marker_pos)):\n",
    "#     marker_ = np.array(marker_pos[i])\n",
    "#     marker_[:,-1] = marker_[:,-1] - marker_[0,-1]\n",
    "#     plt.scatter(marker_[:,-1], marker_[:,2])\n",
    "#     plt.title('Marker Z Position vs Time Index: '+str(i))\n",
    "#     plt.pause(0.1)"
   ]
  },
  {
   "attachments": {},
   "cell_type": "markdown",
   "metadata": {},
   "source": [
    "# Kalman Filter 3D parabola fit"
   ]
  },
  {
   "cell_type": "code",
   "execution_count": 133,
   "metadata": {},
   "outputs": [],
   "source": [
    "class KalmanFilter3D:\n",
    "    def __init__(self):\n",
    "        # Kalman Filter\n",
    "        # State Vector\n",
    "        ## x y z az vx vy vz ax ay \n",
    "        self.state = np.zeros((9,1))\n",
    "\n",
    "        # Measurement Matrix\n",
    "        ## Defines which states are measured\n",
    "        ## Only position is measured, x y z az\n",
    "        self.H = np.array([[1,0,0,0,0,0,0,0,0],\n",
    "                    [0,1,0,0,0,0,0,0,0],\n",
    "                    [0,0,1,0,0,0,0,0,0],\n",
    "                    [0,0,0,1,0,0,0,0,0],\n",
    "                    ])\n",
    "\n",
    "\n",
    "        # Covariance Matrix\n",
    "        ## Defines how much we trust the model \n",
    "        self.R = np.array([[0.01,0,0,0],\n",
    "                    [0,0.01,0,0],\n",
    "                    [0,0,0.01,0],\n",
    "                    [0,0,0,0.01],\n",
    "                    ])\n",
    "\n",
    "\n",
    "        # Process Noise Covariance Matrix\n",
    "        ## Defines the noise relationship between states\n",
    "        self.Q = np.array([[0.01,0,0,0,0,0,0,0,0],\n",
    "                    [0,0.01,0,0,0,0,0,0,0],\n",
    "                    [0,0,0.01,0,0,0,0,0,0],\n",
    "                    [0,0,0,0.01,0,0,0,0,0],\n",
    "                    [0,0,0,0,0.01,0,0,0,0],\n",
    "                    [0,0,0,0,0,0.01,0,0,0],\n",
    "                    [0,0,0,0,0,0,0.01,0,0],\n",
    "                    [0,0,0,0,0,0,0,0.01,0],\n",
    "                    [0,0,0,0,0,0,0,0,0.01],\n",
    "                    ])\n",
    "\n",
    "        self.state_est = np.zeros((9,1))\n",
    "        self.P_est = np.eye(9)\n",
    "        \n",
    "        # Gravity along the Z axis\n",
    "        self.gravity = -9.81\n",
    "        \n",
    "    def update(self, dt, measurement):\n",
    "        \n",
    "        # State Prediction\n",
    "        self.state_predict(dt)\n",
    "        \n",
    "        # Measurement Update\n",
    "        \n",
    "        # Update the Kalman Gain\n",
    "        ## Update the Kalman Gain based on the covariance and measurement matrix\n",
    "        self.K = np.dot(self.P_est, np.dot(self.H.T, np.linalg.inv(self.H @ self.P_est @ self.H.T + self.R)))\n",
    "        \n",
    "        measurement = np.vstack((measurement.reshape(3,1), np.ones((1,1))*self.gravity))\n",
    "        # Update the state estimation using the Kalman Gain\n",
    "        self.state_est = self.state + np.dot(self.K, measurement - self.H @ self.state)\n",
    "        \n",
    "        # Update the covariance matrix\n",
    "        self.P = np.dot((np.eye(9) - np.dot(self.K, self.H)), self.P_est)\n",
    "        pass\n",
    "    \n",
    "    def state_predict(self, dt):\n",
    "        #######\n",
    "        # State Transition Matrix\n",
    "        ## Defines states are dependent on previous states\n",
    "        ## The lines are equation of motion s = s0 + v0*t + 0.5*a*t^2\n",
    "        A = np.array([[1,0,0,0,dt,0,0,0.5*dt**2,0],\n",
    "                      [0,1,0,0,0,dt,0,0,0.5*dt**2],\n",
    "                      [0,0,1,0.5*dt**2,0,0,dt,0,0],\n",
    "                      [0,0,0,1,0,0,0,0,0],\n",
    "                      [0,0,0,0,1,0,0,dt,0],\n",
    "                      [0,0,0,0,0,1,0,0,dt],\n",
    "                      [0,0,0,dt,0,0,1,0,0],\n",
    "                      [0,0,0,0,0,0,0,1,0],\n",
    "                      [0,0,0,0,0,0,0,0,1],\n",
    "                    ])\n",
    "        ########\n",
    "        \n",
    "        # State Update\n",
    "        ## Predict next state based on state transition matrix\n",
    "        self.state = np.dot(A,self.state_est)\n",
    "        \n",
    "        # Covariance Update\n",
    "        ## Update the covariance of the model based on the previous state and process noise\n",
    "        self.P = np.dot(np.dot(A,self.P_est),A.T) + self.Q\n",
    "\n",
    "        "
   ]
  },
  {
   "cell_type": "code",
   "execution_count": 134,
   "metadata": {},
   "outputs": [],
   "source": [
    "ekf = KalmanFilter3D()\n",
    "lim = 50\n",
    "kalman_points = []\n",
    "for wp, marker_ in enumerate(marker_pos[throw_][:,:]):\n",
    "    # print(marker_)\n",
    "    if(wp < lim):\n",
    "        ekf.update(marker_[-1], marker_[:3])\n",
    "    else:\n",
    "        ekf.state_predict(marker_[-1])\n",
    "        ekf.state_est = ekf.state\n",
    "        kalman_points.append(ekf.state_est[:3].reshape(3))      \n",
    "kalman_points =np.array(kalman_points)"
   ]
  },
  {
   "cell_type": "code",
   "execution_count": 135,
   "metadata": {},
   "outputs": [
    {
     "data": {
      "text/plain": [
       "[<matplotlib.lines.Line2D at 0x7ff266d733a0>]"
      ]
     },
     "execution_count": 135,
     "metadata": {},
     "output_type": "execute_result"
    },
    {
     "data": {
      "image/png": "[encoded data removed]",
      "text/plain": [
       "<Figure size 640x480 with 1 Axes>"
      ]
     },
     "metadata": {},
     "output_type": "display_data"
    }
   ],
   "source": [
    "axis = 2\n",
    "plt.plot(kalman_points[:,axis])\n",
    "plt.plot(marker_pos[throw_][:lim,axis])"
   ]
  },
  {
   "cell_type": "code",
   "execution_count": null,
   "metadata": {},
   "outputs": [],
   "source": []
  },
  {
   "cell_type": "code",
   "execution_count": null,
   "metadata": {},
   "outputs": [],
   "source": []
  }
 ],
 "metadata": {
  "kernelspec": {
   "display_name": "Python 3",
   "language": "python",
   "name": "python3"
  },
  "language_info": {
   "codemirror_mode": {
    "name": "ipython",
    "version": 3
   },
   "file_extension": ".py",
   "mimetype": "text/x-python",
   "name": "python",
   "nbconvert_exporter": "python",
   "pygments_lexer": "ipython3",
   "version": "3.8.10"
  },
  "orig_nbformat": 4
 },
 "nbformat": 4,
 "nbformat_minor": 2
}
